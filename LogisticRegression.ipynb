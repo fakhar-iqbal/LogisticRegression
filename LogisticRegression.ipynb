{
  "nbformat": 4,
  "nbformat_minor": 0,
  "metadata": {
    "colab": {
      "provenance": []
    },
    "kernelspec": {
      "name": "python3",
      "display_name": "Python 3"
    },
    "language_info": {
      "name": "python"
    }
  },
  "cells": [
    {
      "cell_type": "code",
      "execution_count": 3,
      "metadata": {
        "colab": {
          "base_uri": "https://localhost:8080/"
        },
        "id": "6WGpXnUkvIX1",
        "outputId": "84a45177-aca3-46c4-d179-76b61ce298d5"
      },
      "outputs": [
        {
          "output_type": "stream",
          "name": "stdout",
          "text": [
            "    User ID  Gender  Age  EstimatedSalary  Purchased\n",
            "0  15624510    Male   19            19000          0\n",
            "1  15810944    Male   35            20000          0\n",
            "2  15668575  Female   26            43000          0\n",
            "3  15603246  Female   27            57000          0\n",
            "4  15804002    Male   19            76000          0\n"
          ]
        }
      ],
      "source": [
        "#importing libraries\n",
        "import numpy as np\n",
        "import pandas as pd\n",
        "import matplotlib.pyplot as plt\n",
        "from sklearn.model_selection import train_test_split\n",
        "from math import exp\n",
        "plt.rcParams['figure.figsize'] = (10,6)\n",
        "\n",
        "!wget \"https://drive.google.com/uc?id=15WAD9_4CpUK6EWmgWVXU8YMnyYLKQvW8&export=download\" -O data.csv -q\n",
        "\n",
        "#load the data\n",
        "data = pd.read_csv('data.csv')\n",
        "print(data.head(5))"
      ]
    },
    {
      "cell_type": "code",
      "source": [
        "#visaulising the data\n",
        "plt.scatter(data.Age,data.Purchased)\n",
        "plt.show()\n",
        "\n",
        "#dividing the dataset into training and testing data\n",
        "X_train, X_test, Y_train, Y_test = train_test_split(data.Age,data.Purchased,test_size=0.20)\n"
      ],
      "metadata": {
        "colab": {
          "base_uri": "https://localhost:8080/",
          "height": 374
        },
        "id": "V9grAVQGwQeU",
        "outputId": "20df8f2e-0885-48d4-a28e-f883b70c7034"
      },
      "execution_count": 29,
      "outputs": [
        {
          "output_type": "display_data",
          "data": {
            "text/plain": [
              "<Figure size 720x432 with 1 Axes>"
            ],
            "image/png": "[encoded data removed]"
          },
          "metadata": {
            "needs_background": "light"
          }
        }
      ]
    },
    {
      "cell_type": "code",
      "source": [
        "#creating logistic regression model\n",
        "#helper function to normalize data\n",
        "def normalize(X):\n",
        "  return X - X.mean()\n",
        "\n",
        "#method to make predictions\n",
        "def predict(X,w0,w1):\n",
        "  return np.array([1/(1+ exp(-1*w0 + -1*w1*x)) for x in X])\n",
        "  \n",
        "\n",
        "#method to train the model\n",
        "def logistic_regression(X,Y):\n",
        "  X = normalize(X)\n",
        "  w0=0\n",
        "  w1=0\n",
        "  A = 0.001\n",
        "  iterations = 150\n",
        "\n",
        "  for i in range(iterations):\n",
        "    y_pred = predict(X,w0,w1)\n",
        "    D_w0 = -1 * sum((Y-y_pred) * y_pred * (1-y_pred))\n",
        "    D_w1 = -1 * sum((Y-y_pred) * y_pred * (1-y_pred) * X)\n",
        "    w0 = w0 - A * D_w0\n",
        "    w1 = w1 - A * D_w1\n",
        "  \n",
        "  return w0,w1  "
      ],
      "metadata": {
        "id": "d6EYQbNmyYXc"
      },
      "execution_count": 37,
      "outputs": []
    },
    {
      "cell_type": "code",
      "source": [
        "w0,w1 = logistic_regression(X_train,Y_train)\n",
        "print(w0,w1)"
      ],
      "metadata": {
        "colab": {
          "base_uri": "https://localhost:8080/"
        },
        "id": "n9plOuyn2Jc5",
        "outputId": "f867fbd9-aa61-4ecc-cecc-ba8896478201"
      },
      "execution_count": 38,
      "outputs": [
        {
          "output_type": "stream",
          "name": "stdout",
          "text": [
            "-0.6871671096180906 0.16674658592723643\n"
          ]
        }
      ]
    },
    {
      "cell_type": "code",
      "source": [
        "X_test_norm = normalize(X_test)\n",
        "y_pred = predict(X_test_norm,w0,w1)\n",
        "y_pred = [1 if y>=0.5 else 0 for y in y_pred]\n",
        "plt.scatter(X_test,y_pred)\n",
        "plt.show()"
      ],
      "metadata": {
        "colab": {
          "base_uri": "https://localhost:8080/",
          "height": 374
        },
        "id": "RKBKktUV3u5R",
        "outputId": "989444f1-f957-4d6c-c89a-3504f1e5fa81"
      },
      "execution_count": 39,
      "outputs": [
        {
          "output_type": "display_data",
          "data": {
            "text/plain": [
              "<Figure size 720x432 with 1 Axes>"
            ],
            "image/png": "[encoded data removed]"
          },
          "metadata": {
            "needs_background": "light"
          }
        }
      ]
    },
    {
      "cell_type": "code",
      "source": [
        "#finding the accuracy of the result\n",
        "accuracy = 0\n",
        "for i in range(len(y_pred)):\n",
        "  if(y_pred[i]==Y_test.iloc[i]):\n",
        "    accuracy +=1\n",
        "\n",
        "print(f'the accuracy for this model is: {accuracy/len(y_pred)}')"
      ],
      "metadata": {
        "colab": {
          "base_uri": "https://localhost:8080/"
        },
        "id": "UV869uZ55GcW",
        "outputId": "e49f394d-14ad-45a1-a8b0-54e9d0c0f72c"
      },
      "execution_count": 40,
      "outputs": [
        {
          "output_type": "stream",
          "name": "stdout",
          "text": [
            "the accuracy for this model is: 0.8625\n"
          ]
        }
      ]
    },
    {
      "cell_type": "code",
      "source": [
        "#checking the predictions from sklearn library\n",
        "from sklearn.linear_model import LogisticRegression\n",
        "\n",
        "#creating an instance and fit the model\n",
        "lr_model = LogisticRegression()\n",
        "lr_model.fit(X_train.values.reshape(-1,1),Y_train.values.reshape(-1,1))\n",
        "\n",
        "y_pred_sk = lr_model.predict(X_test.values.reshape(-1,1))\n",
        "plt.clf()\n",
        "plt.scatter(X_test,y_pred_sk,c='r')\n",
        "plt.show()\n",
        "\n",
        "#accuracy\n",
        "print(f'accuracy= { lr_model.score(X_test.values.reshape(-1,1),Y_test.values.reshape(-1,1))}')"
      ],
      "metadata": {
        "colab": {
          "base_uri": "https://localhost:8080/",
          "height": 448
        },
        "id": "R63vGpS86cQi",
        "outputId": "0d71aa04-070b-4f28-cbee-82055a790048"
      },
      "execution_count": 41,
      "outputs": [
        {
          "output_type": "stream",
          "name": "stderr",
          "text": [
            "/usr/local/lib/python3.9/dist-packages/sklearn/utils/validation.py:1143: DataConversionWarning: A column-vector y was passed when a 1d array was expected. Please change the shape of y to (n_samples, ), for example using ravel().\n",
            "  y = column_or_1d(y, warn=True)\n"
          ]
        },
        {
          "output_type": "display_data",
          "data": {
            "text/plain": [
              "<Figure size 720x432 with 1 Axes>"
            ],
            "image/png": "[encoded data removed]"
          },
          "metadata": {
            "needs_background": "light"
          }
        },
        {
          "output_type": "stream",
          "name": "stdout",
          "text": [
            "accuracy= 0.8625\n"
          ]
        }
      ]
    }
  ]
}